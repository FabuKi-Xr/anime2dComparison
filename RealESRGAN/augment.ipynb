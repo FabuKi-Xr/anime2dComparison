{
 "cells": [
  {
   "cell_type": "code",
   "execution_count": 1,
   "metadata": {},
   "outputs": [],
   "source": [
    "import glob\n",
    "import numpy as np\n",
    "from sklearn.model_selection import train_test_split\n",
    "from tensorflow.keras.preprocessing.image import ImageDataGenerator\n",
    "from PIL import Image\n",
    "import cv2\n",
    "import os\n",
    "import matplotlib.pyplot as plt"
   ]
  },
  {
   "cell_type": "code",
   "execution_count": 2,
   "metadata": {},
   "outputs": [],
   "source": [
    "img_arr = []\n",
    "for path_name in glob.glob('../Waifu-GAN/?*'):\n",
    "    img = Image.open(path_name)\n",
    "    img_arr.append(img)"
   ]
  },
  {
   "cell_type": "code",
   "execution_count": 3,
   "metadata": {},
   "outputs": [],
   "source": [
    "train, test = train_test_split(img_arr, test_size=0.3, random_state=99)\n",
    "train, val = train_test_split(train, test_size=0.3, random_state=99)"
   ]
  },
  {
   "cell_type": "code",
   "execution_count": 4,
   "metadata": {},
   "outputs": [
    {
     "name": "stdout",
     "output_type": "stream",
     "text": [
      "44 28 20\n"
     ]
    }
   ],
   "source": [
    "train_size = len(train)\n",
    "test_size = len(test)\n",
    "val_size = len(val)\n",
    "\n",
    "print(train_size, test_size, val_size)"
   ]
  },
  {
   "cell_type": "code",
   "execution_count": 5,
   "metadata": {},
   "outputs": [],
   "source": [
    "rotation_range = 15\n",
    "width_shift_range = 0.125\n",
    "height_shift_range = 0.125\n",
    "shear_range = 0.1\n",
    "zoom_range = 0.125\n",
    "horizontal_flip = True\n",
    "\n",
    "noise_mean = 60\n",
    "noise_std = 60\n",
    "noise_factor = 0.75"
   ]
  },
  {
   "cell_type": "code",
   "execution_count": 6,
   "metadata": {},
   "outputs": [],
   "source": [
    "def add_gaussian_noise(img):\n",
    "\n",
    "    img_noisy = img+(noise_factor * (np.random.normal(loc=noise_mean,scale=noise_std,size=img.shape)))\n",
    "    img_noisy = np.clip(img_noisy, 0, 255)\n",
    "    return img_noisy"
   ]
  },
  {
   "cell_type": "code",
   "execution_count": 7,
   "metadata": {},
   "outputs": [],
   "source": [
    "datagen = ImageDataGenerator( rotation_range=rotation_range,\n",
    "width_shift_range=width_shift_range,\n",
    "height_shift_range=height_shift_range,\n",
    "shear_range=shear_range,\n",
    "zoom_range=zoom_range,\n",
    "horizontal_flip=horizontal_flip,\n",
    "fill_mode = 'constant',\n",
    "preprocessing_function = add_gaussian_noise)"
   ]
  },
  {
   "cell_type": "code",
   "execution_count": 8,
   "metadata": {},
   "outputs": [],
   "source": [
    "# Prepare train data\n",
    "count = 0\n",
    "for img in train:\n",
    "    width, height = img.size\n",
    "    resized_img = img.resize((320, 320), resample=Image.LANCZOS)\n",
    "    small_img = resized_img.resize((80, 80), resample=Image.LANCZOS)\n",
    "    resized_img = np.array(resized_img, ndmin=4)\n",
    "    small_img = np.array(small_img, ndmin=4)\n",
    "    for _ in range(10):\n",
    "        flow = datagen.flow(small_img, resized_img, batch_size=1)\n",
    "        gen_img = flow.next()\n",
    "        cv2.imwrite('datasets/hq_train/tr' + str(count) + '.png', cv2.cvtColor(gen_img[1][0], cv2.COLOR_RGB2BGR))\n",
    "        cv2.imwrite('datasets/lq_train/tr' + str(count) + '.png', cv2.cvtColor(gen_img[0][0], cv2.COLOR_RGB2BGR))\n",
    "        count += 1"
   ]
  },
  {
   "cell_type": "code",
   "execution_count": 9,
   "metadata": {},
   "outputs": [],
   "source": [
    "# Prepare validation data\n",
    "count = 0\n",
    "for img in val:\n",
    "    width, height = img.size\n",
    "    resized_img = img.resize((320, 320), resample=Image.LANCZOS)\n",
    "    small_img = resized_img.resize((80, 80), resample=Image.LANCZOS)\n",
    "    resized_img = np.array(resized_img, ndmin=4)\n",
    "    small_img = np.array(small_img, ndmin=4)\n",
    "    for _ in range(10):\n",
    "        flow = datagen.flow(small_img, resized_img, batch_size=1)\n",
    "        gen_img = flow.next()\n",
    "        cv2.imwrite('datasets/hq_val/val' + str(count) + '.png', cv2.cvtColor(gen_img[1][0], cv2.COLOR_RGB2BGR))\n",
    "        cv2.imwrite('datasets/lq_val/val' + str(count) + '.png', cv2.cvtColor(gen_img[0][0], cv2.COLOR_RGB2BGR))\n",
    "        count += 1"
   ]
  },
  {
   "cell_type": "code",
   "execution_count": 10,
   "metadata": {},
   "outputs": [],
   "source": [
    "# Prepare test data\n",
    "count = 0\n",
    "for img in test:\n",
    "    width, height = img.size\n",
    "    resized_img = img.resize((320, 320), resample=Image.LANCZOS)\n",
    "    small_img = resized_img.resize((80, 80), resample=Image.LANCZOS)\n",
    "    resized_img = np.array(resized_img, ndmin=4)\n",
    "    small_img = np.array(small_img, ndmin=4)\n",
    "    for _ in range(10):\n",
    "        flow = datagen.flow(small_img, resized_img, batch_size=1)\n",
    "        gen_img = flow.next()\n",
    "        cv2.imwrite('datasets/hq_test/te' + str(count) + '.png', cv2.cvtColor(gen_img[1][0], cv2.COLOR_RGB2BGR))\n",
    "        cv2.imwrite('datasets/lq_test/te' + str(count) + '.png', cv2.cvtColor(gen_img[0][0], cv2.COLOR_RGB2BGR))\n",
    "        count += 1"
   ]
  }
 ],
 "metadata": {
  "kernelspec": {
   "display_name": "lab4",
   "language": "python",
   "name": "python3"
  },
  "language_info": {
   "codemirror_mode": {
    "name": "ipython",
    "version": 3
   },
   "file_extension": ".py",
   "mimetype": "text/x-python",
   "name": "python",
   "nbconvert_exporter": "python",
   "pygments_lexer": "ipython3",
   "version": "3.9.18"
  }
 },
 "nbformat": 4,
 "nbformat_minor": 2
}
