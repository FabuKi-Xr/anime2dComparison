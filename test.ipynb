{
 "cells": [
  {
   "cell_type": "markdown",
   "metadata": {},
   "source": [
    "# import Lib"
   ]
  },
  {
   "cell_type": "code",
   "execution_count": 1,
   "metadata": {},
   "outputs": [],
   "source": [
    "from keras.preprocessing import image\n",
    "from tensorflow.keras.preprocessing.image import load_img, img_to_array\n",
    "from PIL import Image\n",
    "import glob\n",
    "import os\n",
    "import numpy as np\n",
    "import matplotlib.pyplot as plt\n",
    "import cv2\n",
    "from math import log10, sqrt\n",
    "from waifu2x_ncnn_py import Waifu2x"
   ]
  },
  {
   "cell_type": "code",
   "execution_count": 2,
   "metadata": {},
   "outputs": [],
   "source": [
    "dataset_path = glob.glob('waifu_gan/Waifu-GAN/*')"
   ]
  },
  {
   "cell_type": "code",
   "execution_count": 3,
   "metadata": {},
   "outputs": [],
   "source": [
    "waifu2x = Waifu2x()"
   ]
  },
  {
   "cell_type": "code",
   "execution_count": null,
   "metadata": {},
   "outputs": [],
   "source": [
    "dataset_path"
   ]
  },
  {
   "cell_type": "code",
   "execution_count": 72,
   "metadata": {},
   "outputs": [
    {
     "name": "stdout",
     "output_type": "stream",
     "text": [
      "^C\n"
     ]
    },
    {
     "name": "stderr",
     "output_type": "stream",
     "text": [
      "[0 NVIDIA GeForce GTX 1650]  queueC=2[8]  queueG=0[16]  queueT=1[2]\n",
      "[0 NVIDIA GeForce GTX 1650]  bugsbn1=0  bugbilz=0  bugcopc=0  bugihfa=0\n",
      "[0 NVIDIA GeForce GTX 1650]  fp16-p/s/a=1/1/1  int8-p/s/a=1/1/1\n",
      "[0 NVIDIA GeForce GTX 1650]  subgroup=32  basic=1  vote=1  ballot=1  shuffle=1\n",
      "[1 AMD Radeon(TM) Graphics]  queueC=1[2]  queueG=0[1]  queueT=2[1]\n",
      "[1 AMD Radeon(TM) Graphics]  bugsbn1=0  bugbilz=0  bugcopc=0  bugihfa=0\n",
      "[1 AMD Radeon(TM) Graphics]  fp16-p/s/a=1/1/1  int8-p/s/a=1/1/1\n",
      "[1 AMD Radeon(TM) Graphics]  subgroup=64  basic=1  vote=1  ballot=1  shuffle=1\n",
      "0.00%\n",
      "[0 NVIDIA GeForce GTX 1650]  queueC=2[8]  queueG=0[16]  queueT=1[2]\n",
      "[0 NVIDIA GeForce GTX 1650]  bugsbn1=0  bugbilz=0  bugcopc=0  bugihfa=0\n",
      "[0 NVIDIA GeForce GTX 1650]  fp16-p/s/a=1/1/1  int8-p/s/a=1/1/1\n",
      "[0 NVIDIA GeForce GTX 1650]  subgroup=32  basic=1  vote=1  ballot=1  shuffle=1\n",
      "[1 AMD Radeon(TM) Graphics]  queueC=1[2]  queueG=0[1]  queueT=2[1]\n",
      "[1 AMD Radeon(TM) Graphics]  bugsbn1=0  bugbilz=0  bugcopc=0  bugihfa=0\n",
      "[1 AMD Radeon(TM) Graphics]  fp16-p/s/a=1/1/1  int8-p/s/a=1/1/1\n",
      "[1 AMD Radeon(TM) Graphics]  subgroup=64  basic=1  vote=1  ballot=1  shuffle=1\n",
      "0.00%\n",
      "[0 NVIDIA GeForce GTX 1650]  queueC=2[8]  queueG=0[16]  queueT=1[2]\n",
      "[0 NVIDIA GeForce GTX 1650]  bugsbn1=0  bugbilz=0  bugcopc=0  bugihfa=0\n",
      "[0 NVIDIA GeForce GTX 1650]  fp16-p/s/a=1/1/1  int8-p/s/a=1/1/1\n",
      "[0 NVIDIA GeForce GTX 1650]  subgroup=32  basic=1  vote=1  ballot=1  shuffle=1\n",
      "[1 AMD Radeon(TM) Graphics]  queueC=1[2]  queueG=0[1]  queueT=2[1]\n",
      "[1 AMD Radeon(TM) Graphics]  bugsbn1=0  bugbilz=0  bugcopc=0  bugihfa=0\n",
      "[1 AMD Radeon(TM) Graphics]  fp16-p/s/a=1/1/1  int8-p/s/a=1/1/1\n",
      "[1 AMD Radeon(TM) Graphics]  subgroup=64  basic=1  vote=1  ballot=1  shuffle=1\n",
      "0.00%\n",
      "25.00%\n",
      "50.00%\n",
      "75.00%\n",
      "[0 NVIDIA GeForce GTX 1650]  queueC=2[8]  queueG=0[16]  queueT=1[2]\n",
      "[0 NVIDIA GeForce GTX 1650]  bugsbn1=0  bugbilz=0  bugcopc=0  bugihfa=0\n",
      "[0 NVIDIA GeForce GTX 1650]  fp16-p/s/a=1/1/1  int8-p/s/a=1/1/1\n",
      "[0 NVIDIA GeForce GTX 1650]  subgroup=32  basic=1  vote=1  ballot=1  shuffle=1\n",
      "[1 AMD Radeon(TM) Graphics]  queueC=1[2]  queueG=0[1]  queueT=2[1]\n",
      "[1 AMD Radeon(TM) Graphics]  bugsbn1=0  bugbilz=0  bugcopc=0  bugihfa=0\n",
      "[1 AMD Radeon(TM) Graphics]  fp16-p/s/a=1/1/1  int8-p/s/a=1/1/1\n",
      "[1 AMD Radeon(TM) Graphics]  subgroup=64  basic=1  vote=1  ballot=1  shuffle=1\n",
      "0.00%\n",
      "[0 NVIDIA GeForce GTX 1650]  queueC=2[8]  queueG=0[16]  queueT=1[2]\n",
      "[0 NVIDIA GeForce GTX 1650]  bugsbn1=0  bugbilz=0  bugcopc=0  bugihfa=0\n",
      "[0 NVIDIA GeForce GTX 1650]  fp16-p/s/a=1/1/1  int8-p/s/a=1/1/1\n",
      "[0 NVIDIA GeForce GTX 1650]  subgroup=32  basic=1  vote=1  ballot=1  shuffle=1\n",
      "[1 AMD Radeon(TM) Graphics]  queueC=1[2]  queueG=0[1]  queueT=2[1]\n",
      "[1 AMD Radeon(TM) Graphics]  bugsbn1=0  bugbilz=0  bugcopc=0  bugihfa=0\n",
      "[1 AMD Radeon(TM) Graphics]  fp16-p/s/a=1/1/1  int8-p/s/a=1/1/1\n",
      "[1 AMD Radeon(TM) Graphics]  subgroup=64  basic=1  vote=1  ballot=1  shuffle=1\n",
      "0.00%\n",
      "[0 NVIDIA GeForce GTX 1650]  queueC=2[8]  queueG=0[16]  queueT=1[2]\n",
      "[0 NVIDIA GeForce GTX 1650]  bugsbn1=0  bugbilz=0  bugcopc=0  bugihfa=0\n",
      "[0 NVIDIA GeForce GTX 1650]  fp16-p/s/a=1/1/1  int8-p/s/a=1/1/1\n",
      "[0 NVIDIA GeForce GTX 1650]  subgroup=32  basic=1  vote=1  ballot=1  shuffle=1\n",
      "[1 AMD Radeon(TM) Graphics]  queueC=1[2]  queueG=0[1]  queueT=2[1]\n",
      "[1 AMD Radeon(TM) Graphics]  bugsbn1=0  bugbilz=0  bugcopc=0  bugihfa=0\n",
      "[1 AMD Radeon(TM) Graphics]  fp16-p/s/a=1/1/1  int8-p/s/a=1/1/1\n",
      "[1 AMD Radeon(TM) Graphics]  subgroup=64  basic=1  vote=1  ballot=1  shuffle=1\n",
      "0.00%\n",
      "[0 NVIDIA GeForce GTX 1650]  queueC=2[8]  queueG=0[16]  queueT=1[2]\n",
      "[0 NVIDIA GeForce GTX 1650]  bugsbn1=0  bugbilz=0  bugcopc=0  bugihfa=0\n",
      "[0 NVIDIA GeForce GTX 1650]  fp16-p/s/a=1/1/1  int8-p/s/a=1/1/1\n",
      "[0 NVIDIA GeForce GTX 1650]  subgroup=32  basic=1  vote=1  ballot=1  shuffle=1\n",
      "[1 AMD Radeon(TM) Graphics]  queueC=1[2]  queueG=0[1]  queueT=2[1]\n",
      "[1 AMD Radeon(TM) Graphics]  bugsbn1=0  bugbilz=0  bugcopc=0  bugihfa=0\n",
      "[1 AMD Radeon(TM) Graphics]  fp16-p/s/a=1/1/1  int8-p/s/a=1/1/1\n",
      "[1 AMD Radeon(TM) Graphics]  subgroup=64  basic=1  vote=1  ballot=1  shuffle=1\n",
      "0.00%\n",
      "[0 NVIDIA GeForce GTX 1650]  queueC=2[8]  queueG=0[16]  queueT=1[2]\n",
      "[0 NVIDIA GeForce GTX 1650]  bugsbn1=0  bugbilz=0  bugcopc=0  bugihfa=0\n",
      "[0 NVIDIA GeForce GTX 1650]  fp16-p/s/a=1/1/1  int8-p/s/a=1/1/1\n",
      "[0 NVIDIA GeForce GTX 1650]  subgroup=32  basic=1  vote=1  ballot=1  shuffle=1\n",
      "[1 AMD Radeon(TM) Graphics]  queueC=1[2]  queueG=0[1]  queueT=2[1]\n",
      "[1 AMD Radeon(TM) Graphics]  bugsbn1=0  bugbilz=0  bugcopc=0  bugihfa=0\n",
      "[1 AMD Radeon(TM) Graphics]  fp16-p/s/a=1/1/1  int8-p/s/a=1/1/1\n",
      "[1 AMD Radeon(TM) Graphics]  subgroup=64  basic=1  vote=1  ballot=1  shuffle=1\n",
      "0.00%\n",
      "[0 NVIDIA GeForce GTX 1650]  queueC=2[8]  queueG=0[16]  queueT=1[2]\n",
      "[0 NVIDIA GeForce GTX 1650]  bugsbn1=0  bugbilz=0  bugcopc=0  bugihfa=0\n",
      "[0 NVIDIA GeForce GTX 1650]  fp16-p/s/a=1/1/1  int8-p/s/a=1/1/1\n",
      "[0 NVIDIA GeForce GTX 1650]  subgroup=32  basic=1  vote=1  ballot=1  shuffle=1\n",
      "[1 AMD Radeon(TM) Graphics]  queueC=1[2]  queueG=0[1]  queueT=2[1]\n",
      "[1 AMD Radeon(TM) Graphics]  bugsbn1=0  bugbilz=0  bugcopc=0  bugihfa=0\n",
      "[1 AMD Radeon(TM) Graphics]  fp16-p/s/a=1/1/1  int8-p/s/a=1/1/1\n",
      "[1 AMD Radeon(TM) Graphics]  subgroup=64  basic=1  vote=1  ballot=1  shuffle=1\n",
      "0.00%\n"
     ]
    }
   ],
   "source": [
    "img_realEsgan_arr =[]\n",
    "img_waifu_arr = []\n",
    "img_arr = []\n",
    "for idx,img_path in enumerate(dataset_path):\n",
    "    label = img_path.split(os.path.sep)[-1]\n",
    "    img_name = img_path.split(os.path.sep)[-1]\n",
    "    \n",
    "    #original region\n",
    "    img = load_img(img_path, target_size=(224, 224),interpolation='nearest',color_mode='rgb')\n",
    "    img = img_to_array(img)/255.\n",
    "    img_arr.append(img)\n",
    "\n",
    "    #waifu region\n",
    "    img_waifu_path = f'output\\\\waifu2x\\\\{label}\\\\{img_name}'\n",
    "\n",
    "    with Image.open(img_path) as image:\n",
    "        image = image.convert('RGB')\n",
    "        image = waifu2x.process_pil(image)\n",
    "        os.makedirs(f'output\\\\waifu2x\\\\{label}', exist_ok=True)\n",
    "        image.save(img_waifu_path, quality=95)\n",
    "\n",
    "    img_waifu = load_img(img_waifu_path, target_size=(224, 224),interpolation='nearest',color_mode='rgb')\n",
    "    img_waifu = img_to_array(img_waifu)/255.\n",
    "    img_waifu_arr.append(img_waifu)\n",
    "\n",
    "    #real-esgan region\n",
    "    img_realEsgan_path = f'output\\\\real-esgan\\\\{label}\\\\{img_name}'\n",
    "\n",
    "    command = f\"realesrgan-ncnn-vulkan.exe -i {img_path} -o {img_realEsgan_path}\"\n",
    "    !{command}\n",
    "\n",
    "    img_realEsgan = load_img(img_realEsgan_path, target_size=(224, 224),interpolation='nearest',color_mode='rgb')\n",
    "    img_realEsgan = img_to_array(img_realEsgan)/255.\n",
    "    img_realEsgan_arr.append(img_realEsgan)"
   ]
  },
  {
   "cell_type": "code",
   "execution_count": 46,
   "metadata": {},
   "outputs": [],
   "source": [
    "def PSNR(original, compressed): \n",
    "    mse = np.mean((original - compressed) ** 2) \n",
    "    if(mse == 0):  # MSE is zero means no noise is present in the signal . \n",
    "        # Therefore PSNR have no importance. \n",
    "        return 100\n",
    "    max_pixel = 255.0\n",
    "    psnr = 20 * log10(max_pixel / sqrt(mse)) \n",
    "    return psnr"
   ]
  },
  {
   "cell_type": "code",
   "execution_count": 50,
   "metadata": {},
   "outputs": [],
   "source": [
    "def validate_PSNR(img_arr, img_waifu_arr, img_realEsgan_arr):\n",
    "    psnr_waifu = []\n",
    "    psnr_realEsgan = []\n",
    "    for idx, img in enumerate(img_arr):\n",
    "        psnr_waifu.append(PSNR(img, img_waifu_arr[idx]))\n",
    "        psnr_realEsgan.append(PSNR(img, img_realEsgan_arr[idx]))\n",
    "\n",
    "    return psnr_waifu, psnr_realEsgan"
   ]
  },
  {
   "cell_type": "code",
   "execution_count": 51,
   "metadata": {},
   "outputs": [
    {
     "data": {
      "text/plain": [
       "([84.41477661507346, 86.14450806958267],\n",
       " [80.32076193913741, 80.69054025898842])"
      ]
     },
     "execution_count": 51,
     "metadata": {},
     "output_type": "execute_result"
    }
   ],
   "source": [
    "validate_PSNR(img_arr, img_waifu_arr, img_realEsgan_arr)"
   ]
  },
  {
   "cell_type": "code",
   "execution_count": 15,
   "metadata": {},
   "outputs": [
    {
     "data": {
      "text/plain": [
       "80.32076193913741"
      ]
     },
     "execution_count": 15,
     "metadata": {},
     "output_type": "execute_result"
    }
   ],
   "source": [
    "PSNR(img_original,img_realEsgan)"
   ]
  }
 ],
 "metadata": {
  "kernelspec": {
   "display_name": "base",
   "language": "python",
   "name": "python3"
  },
  "language_info": {
   "codemirror_mode": {
    "name": "ipython",
    "version": 3
   },
   "file_extension": ".py",
   "mimetype": "text/x-python",
   "name": "python",
   "nbconvert_exporter": "python",
   "pygments_lexer": "ipython3",
   "version": "3.9.18"
  }
 },
 "nbformat": 4,
 "nbformat_minor": 2
}
